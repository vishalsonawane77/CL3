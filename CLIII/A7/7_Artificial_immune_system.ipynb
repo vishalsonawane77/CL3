{
 "cells": [
  {
   "cell_type": "code",
   "execution_count": null,
   "id": "27c03393-237b-4f62-b0af-096f01589fba",
   "metadata": {},
   "outputs": [
    {
     "name": "stdout",
     "output_type": "stream",
     "text": [
      "Antibodies: 10\n",
      "Potential damage detected with antibody: [0.23725486 1.0804808  0.9592962 ]\n"
     ]
    }
   ],
   "source": [
    "import numpy as np\n",
    "\n",
    "def create_antibodies(n, dim):\n",
    "    return np.random.rand(n, dim)\n",
    "\n",
    "def euclidean_dist(a1, a2):\n",
    "    return np.linalg.norm(a1 - a2)\n",
    "\n",
    "def affinity(antibody, datapoint):\n",
    "    distance = euclidean_dist(antibody, datapoint)\n",
    "    return 1 / (1 + distance)\n",
    "\n",
    "# Healthy and damaged data\n",
    "healthy_data = np.array([[1.0, 2.0, 3.0], [1.1, 2.1, 2.9]])\n",
    "damaged_data = np.array([[1.6, 5.0, 2.0], [4.1, 1.1, 4.9]])\n",
    "\n",
    "# Create antibodies\n",
    "num_antibodies = 10\n",
    "dim = 3\n",
    "antibodies = create_antibodies(num_antibodies, dim)\n",
    "\n",
    "# Training phase (against healthy data)\n",
    "for i in range(2):\n",
    "    healthy_affinity = [max(affinity(ab, dp) for dp in healthy_data) for ab in antibodies]\n",
    "    top_antibodies = sorted(zip(antibodies, healthy_affinity), key=lambda x: x[1], reverse=True)[:5]\n",
    "    \n",
    "    new_population = []\n",
    "    for ab, _ in top_antibodies:\n",
    "        new_ab = ab + 0.1 * np.random.rand(*ab.shape)\n",
    "        new_population.append(new_ab)\n",
    "    \n",
    "    antibodies = np.array(new_population + list(antibodies[5:]))\n",
    "\n",
    "# Detection phase\n",
    "damaged_affinities = [max(affinity(ab, dp) for dp in damaged_data) for ab in antibodies]\n",
    "potential_damage_index = damaged_affinities.index(max(damaged_affinities))\n",
    "\n",
    "print(\"Antibodies:\", len(antibodies))\n",
    "print(\"Potential damage detected with antibody:\", antibodies[potential_damage_index])\n"
   ]
  },
  {
   "cell_type": "code",
   "execution_count": null,
   "id": "d585e0ff-08b1-4b0c-9b44-9ba131917f28",
   "metadata": {},
   "outputs": [],
   "source": [
    "import numpy as np\n",
    "\n",
    "def create_antibodies(n,dim):\n",
    "    return np.random.rand(n,dim)\n",
    "\n",
    "def eucledian_dist(a1,a2):\n",
    "    return np.linalg.norm(a1-a2)\n",
    "\n",
    "healthy_data = np.array([[1.0,2.0,3.0],[1.8,1.1,2.9]])\n",
    "damaged_data = np.array([[4.2,2.5,7.7],[2.4,1.5,6.0]])\n",
    "\n",
    "num_antibodies = 10\n",
    "dim = 3\n",
    "antibody_population = create_antibodies(num_antibodies,dim)\n",
    "\n",
    "def affinity(antibody,datapoint):\n",
    "    dist = eucledian_dist(antibody,datapoint)\n",
    "    return 1/(1+dist)\n",
    "\n",
    "for i in range(2):\n",
    "    healthy_affinity = [max(affinity(antibody,datapoint) for antibody in antibody_population) for datapoint in healthy_data]\n",
    "    top_antibodies = sorted(zip(antibody_population, healthy_affinity), key = lambda x:x[1], reverse = True)[:5]\n",
    "    new_population = []\n",
    "    for ab,_ in top_antibodies:\n",
    "        new_dp = ab + 0.1*np.random.rand(*ab.shape)\n",
    "        new_population.append(new_population)\n",
    "    antibody_population = new_population\n",
    "\n",
    "damaged_affinity = [max(affinity(ab,dp) for ab in antibody_population) for dp in damaged_data]\n",
    "max_damage_index = damaged_affinities.index(max(damaged_affinities))\n",
    "\n",
    "print(len(antibody_population))\n",
    "print(damaged_affinities[max_damage_index])\n",
    "\n"
   ]
  },
  {
   "cell_type": "code",
   "execution_count": null,
   "id": "d4574c00-ae49-4e44-a24a-792d8436ee85",
   "metadata": {},
   "outputs": [],
   "source": []
  }
 ],
 "metadata": {
  "kernelspec": {
   "display_name": "Python 3",
   "language": "python",
   "name": "python3"
  },
  "language_info": {
   "codemirror_mode": {
    "name": "ipython",
    "version": 3
   },
   "file_extension": ".py",
   "mimetype": "text/x-python",
   "name": "python",
   "nbconvert_exporter": "python",
   "pygments_lexer": "ipython3",
   "version": "3.10.11"
  }
 },
 "nbformat": 4,
 "nbformat_minor": 5
}

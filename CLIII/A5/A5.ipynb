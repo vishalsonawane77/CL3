{
  "nbformat": 4,
  "nbformat_minor": 0,
  "metadata": {
    "colab": {
      "provenance": [],
      "gpuType": "T4"
    },
    "kernelspec": {
      "name": "python3",
      "display_name": "Python 3"
    },
    "language_info": {
      "name": "python"
    },
    "accelerator": "GPU"
  },
  "cells": [
    {
      "cell_type": "code",
      "execution_count": 2,
      "metadata": {
        "id": "atTlAxS8vd4F"
      },
      "outputs": [],
      "source": [
        "# Import necessary libraries\n",
        "import numpy as np\n",
        "from sklearn.model_selection import train_test_split\n",
        "from sklearn.preprocessing import StandardScaler\n",
        "from sklearn.neural_network import MLPRegressor\n",
        "from geneticalgorithm import geneticalgorithm as ga\n",
        "import warnings"
      ]
    },
    {
      "cell_type": "code",
      "source": [
        "!pip install geneticalgorithm"
      ],
      "metadata": {
        "colab": {
          "base_uri": "https://localhost:8080/"
        },
        "id": "Rpg6fDFMvsc9",
        "outputId": "7a4e4143-1e67-4fb5-aa5e-f447bbc1817f"
      },
      "execution_count": 1,
      "outputs": [
        {
          "output_type": "stream",
          "name": "stdout",
          "text": [
            "Collecting geneticalgorithm\n",
            "  Downloading geneticalgorithm-1.0.2-py3-none-any.whl.metadata (25 kB)\n",
            "Collecting func-timeout (from geneticalgorithm)\n",
            "  Downloading func_timeout-4.3.5.tar.gz (44 kB)\n",
            "\u001b[?25l     \u001b[90m━━━━━━━━━━━━━━━━━━━━━━━━━━━━━━━━━━━━━━━━\u001b[0m \u001b[32m0.0/44.3 kB\u001b[0m \u001b[31m?\u001b[0m eta \u001b[36m-:--:--\u001b[0m\r\u001b[2K     \u001b[90m━━━━━━━━━━━━━━━━━━━━━━━━━━━━━━━━━━━━━━━━\u001b[0m \u001b[32m44.3/44.3 kB\u001b[0m \u001b[31m2.2 MB/s\u001b[0m eta \u001b[36m0:00:00\u001b[0m\n",
            "\u001b[?25h  Preparing metadata (setup.py) ... \u001b[?25l\u001b[?25hdone\n",
            "Requirement already satisfied: numpy in /usr/local/lib/python3.11/dist-packages (from geneticalgorithm) (2.0.2)\n",
            "Downloading geneticalgorithm-1.0.2-py3-none-any.whl (16 kB)\n",
            "Building wheels for collected packages: func-timeout\n",
            "  Building wheel for func-timeout (setup.py) ... \u001b[?25l\u001b[?25hdone\n",
            "  Created wheel for func-timeout: filename=func_timeout-4.3.5-py3-none-any.whl size=15077 sha256=839dc72d62af00d8a82e7dc086095b6949b97ba6c5be35ea95e2d439f285c373\n",
            "  Stored in directory: /root/.cache/pip/wheels/07/e6/86/f23164d12c3134966614102db8e7956ab359faf7ffd78703ce\n",
            "Successfully built func-timeout\n",
            "Installing collected packages: func-timeout, geneticalgorithm\n",
            "Successfully installed func-timeout-4.3.5 geneticalgorithm-1.0.2\n"
          ]
        }
      ]
    },
    {
      "cell_type": "code",
      "source": [
        "# Define functions for genetic algorithm fitness evaluation and neural network training\n",
        "def fitness_function(params):\n",
        "    # Decode parameters\n",
        "    hidden_layer_sizes = (int(params[0]),) * int(params[1])\n",
        "    activation = ['identity', 'logistic', 'tanh', 'relu'][int(params[2])]\n",
        "    solver = ['lbfgs', 'sgd', 'adam'][int(params[3])]\n",
        "\n",
        "    # Create and train neural network\n",
        "    model = MLPRegressor(hidden_layer_sizes=hidden_layer_sizes, activation=activation, solver=solver)\n",
        "    model.fit(X_train, y_train)\n",
        "\n",
        "    # Evaluate fitness (example: mean squared error)\n",
        "    fitness = -model.score(X_val, y_val)\n",
        "\n",
        "    return fitness"
      ],
      "metadata": {
        "id": "zQ527YELvgKA"
      },
      "execution_count": 3,
      "outputs": []
    },
    {
      "cell_type": "code",
      "source": [
        "def train_neural_network(params):\n",
        "    # Decode parameters\n",
        "    hidden_layer_sizes = (int(params[0]),) * int(params[1])\n",
        "    activation = ['identity', 'logistic', 'tanh', 'relu'][int(params[2])]\n",
        "    solver = ['lbfgs', 'sgd', 'adam'][int(params[3])]\n",
        "\n",
        "    # Create and train neural network\n",
        "    model = MLPRegressor(hidden_layer_sizes=hidden_layer_sizes, activation=activation, solver=solver)\n",
        "    model.fit(X_train, y_train)\n",
        "\n",
        "    # Evaluate neural network performance on validation data\n",
        "    validation_error = -model.score(X_val, y_val)\n",
        "\n",
        "    return validation_error"
      ],
      "metadata": {
        "id": "xvxrJoBuvvQ7"
      },
      "execution_count": 4,
      "outputs": []
    },
    {
      "cell_type": "code",
      "source": [
        "# Load your dataset\n",
        "np.random.seed(42)\n",
        "\n",
        "# Assuming you have features like temperature, humidity, etc., and you want to predict drying time\n",
        "num_samples = 1000\n",
        "num_features = 5  # Adjust based on your actual features\n",
        "\n",
        "# Generate synthetic features\n",
        "X = np.random.rand(num_samples, num_features)"
      ],
      "metadata": {
        "id": "w_th24B1v460"
      },
      "execution_count": 5,
      "outputs": []
    },
    {
      "cell_type": "code",
      "source": [
        "# Generate synthetic target variable (drying time)\n",
        "# Here, we'll assume a linear relationship with some noise\n",
        "true_coefficients = np.random.rand(num_features) * 10  # Random coefficients for features\n",
        "noise = np.random.normal(loc=0, scale=1, size=num_samples)  # Gaussian noise\n",
        "y = np.dot(X, true_coefficients) + noise"
      ],
      "metadata": {
        "id": "ln6rr1S3wCOc"
      },
      "execution_count": 6,
      "outputs": []
    },
    {
      "cell_type": "code",
      "source": [
        "# Example: Replace X_train, X_val, y_train, y_val with your dataset\n",
        "X_train, X_val, y_train, y_val = train_test_split(X, y, test_size=0.2, random_state=42)\n",
        "\n",
        "warnings.filterwarnings(\"ignore\")"
      ],
      "metadata": {
        "id": "vaNJ__uywHMo"
      },
      "execution_count": 7,
      "outputs": []
    },
    {
      "cell_type": "code",
      "source": [
        "# Define genetic algorithm parameters\n",
        "number_of_parameters = 4  # Adjust based on the number of parameters you want to optimize\n",
        "varbound = np.array([[5, 50],  # Range for number of neurons in each hidden layer\n",
        "                     [1, 5],    # Range for number of hidden layers\n",
        "                     [0, 3],    # Activation function: 0 for identity, 1 for logistic, 2 for tanh, 3 for relu\n",
        "                     [0, 2]])   # Solver: 0 for lbfgs, 1 for sgd, 2 for adam\n",
        "algorithm_param = {'max_num_iteration': 1, 'population_size': 100, 'mutation_probability': 0.1,\n",
        "                   'elit_ratio': 0.01, 'crossover_probability': 0.5, 'parents_portion': 0.3,\n",
        "                   'crossover_type': 'uniform', 'max_iteration_without_improv': None}\n",
        "model = ga(function=fitness_function, dimension=number_of_parameters, variable_type='int', variable_boundaries=varbound,\n",
        "           algorithm_parameters=algorithm_param)\n",
        "\n",
        "# Run the genetic algorithm\n",
        "model.run()"
      ],
      "metadata": {
        "colab": {
          "base_uri": "https://localhost:8080/",
          "height": 559
        },
        "id": "wvVnVwApwLdH",
        "outputId": "44c02908-8002-4be0-a388-97d80c394d53"
      },
      "execution_count": 8,
      "outputs": [
        {
          "output_type": "stream",
          "name": "stdout",
          "text": [
            " The best solution found:\n",
            " [34.  2.  3.  1.]\n",
            "\n",
            " Objective function:\n",
            " -0.9542854848199847\n"
          ]
        },
        {
          "output_type": "display_data",
          "data": {
            "text/plain": [
              "<Figure size 640x480 with 1 Axes>"
            ],
            "image/png": "[encoded data removed]"
          },
          "metadata": {}
        }
      ]
    },
    {
      "cell_type": "code",
      "source": [
        "# Get the best parameters found by the genetic algorithm\n",
        "best_params = model.output_dict['variable']\n",
        "\n",
        "# Train neural network with the best parameters\n",
        "validation_error = train_neural_network(best_params)"
      ],
      "metadata": {
        "id": "d8YkzMl1wPzq"
      },
      "execution_count": 9,
      "outputs": []
    },
    {
      "cell_type": "code",
      "source": [
        "print(\"Best parameters found by genetic algorithm:\", best_params)\n",
        "print(\"Validation error of neural network:\", validation_error)"
      ],
      "metadata": {
        "colab": {
          "base_uri": "https://localhost:8080/"
        },
        "id": "u0gIqj8YwVQL",
        "outputId": "d24175ef-2a9a-4213-8b4b-1c5189e9c5b6"
      },
      "execution_count": 10,
      "outputs": [
        {
          "output_type": "stream",
          "name": "stdout",
          "text": [
            "Best parameters found by genetic algorithm: [34.  2.  3.  1.]\n",
            "Validation error of neural network: -0.9532617645775645\n"
          ]
        }
      ]
    }
  ]
}